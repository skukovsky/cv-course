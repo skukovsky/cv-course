{
  "cells": [
    {
      "cell_type": "markdown",
      "metadata": {
        "id": "29fb1f70"
      },
      "source": [
        "# 1. Использование готового репозитория YOLO v5"
      ],
      "id": "29fb1f70"
    },
    {
      "cell_type": "markdown",
      "metadata": {
        "id": "0-8DqUdb4Yxl"
      },
      "source": [
        "Чаще всего код уже реализован. В этом случае всегда предпочтительно запускать готовый код от создателей моделей. \n",
        "\n",
        "В нашем случае мы будем работать с детектором YOLO v5, который выложен создателями в открытый доступ. Поэтому мы возьмем этот код и попробуем его запустить. \n",
        "\n",
        "В реальных проектах именно с этого рекомендуется начинать работу: поискать в сети уже реализованные решения и попробовать запустить."
      ],
      "id": "0-8DqUdb4Yxl"
    },
    {
      "cell_type": "markdown",
      "metadata": {
        "id": "d856430c"
      },
      "source": [
        "## 1.1 Установим библиотеки и смонтируем данные"
      ],
      "id": "d856430c"
    },
    {
      "cell_type": "markdown",
      "metadata": {
        "id": "3505a02b"
      },
      "source": [
        "Для начала поставим PyTorch, Tensorboard, OpenCV с помощью терминальной команды pip. Терминальные команды можно использовать в Jupyter Notebook-ах и Colab-е. Для того, чтобы запустить терминальную команду, необходимо перед командой поставить восклицательный знак."
      ],
      "id": "3505a02b"
    },
    {
      "cell_type": "code",
      "execution_count": null,
      "metadata": {
        "id": "89a8e8cf"
      },
      "outputs": [],
      "source": [
        "!git clone https://github.com/ultralytics/yolov5\n",
        "!pip install -r -q /content/yolov5/requirements.txt\n",
        "# !pip install -q tensorboard opencv-python roboflow gitpython"
      ],
      "id": "89a8e8cf"
    },
    {
      "cell_type": "code",
      "execution_count": null,
      "metadata": {
        "id": "xgIlgZWnjON4"
      },
      "outputs": [],
      "source": [
        "from google.colab import drive\n",
        "drive.mount('/content/drive')"
      ],
      "id": "xgIlgZWnjON4"
    },
    {
      "cell_type": "markdown",
      "metadata": {
        "id": "b39ee457"
      },
      "source": [
        "## 1.2. Подготовка данных для YOLO v5"
      ],
      "id": "b39ee457"
    },
    {
      "cell_type": "markdown",
      "metadata": {
        "id": "7c779b00"
      },
      "source": [
        "### !! Необходимо действие\n",
        "\n",
        "Добавьте в ваш Google Drive в папку ```'Datasets'```, находящуюся в корне диска, [ссылку на данные](https://drive.google.com/drive/folders/1aEVxvGXa5tsjhycH2AKV-lgiLUiFeMPs?usp=share_link), которые мы будем использовать для обучения YOLO v5.\n",
        "\n",
        "Для добавления ссылку на эти данные, необходимо перейти по ссылке под аккаунтом, который вы используете для Colab Pro+\n",
        "\n",
        "По этой ссылке вы можете найти архив, разбитый на части, внутри которого лежат структурированные данные\n",
        "\n",
        "\n",
        "\n",
        "---\n",
        "\n",
        "WARNING!!!\n",
        "\n",
        "Если вы добавите данные в какую-то другую папку, имейте в виду, что нужно будет поменять путь в тех местах, где это может потребоваться\n"
      ],
      "id": "7c779b00"
    },
    {
      "cell_type": "markdown",
      "metadata": {
        "id": "OKX7DzV_OWxm"
      },
      "source": [
        "<img src='https://drive.google.com/uc?id=1Rj-xG0u3oteuDRQv2Qj-UO3Pc0Ywmji8' width='512' alt='How to Add the Dataset'>"
      ],
      "id": "OKX7DzV_OWxm"
    },
    {
      "cell_type": "code",
      "execution_count": null,
      "metadata": {
        "id": "SCjrRdYbhqEw"
      },
      "outputs": [],
      "source": [
        "# !rm -rf sample_data\n",
        "!rm -rf dataset_u1\n",
        "!mkdir dataset_u1\n",
        "!7z x -o/content/dataset_u1/ -y -bsp2 \"/content/drive/MyDrive/Datasets/VA_2_Detection/\" "
      ],
      "id": "SCjrRdYbhqEw"
    },
    {
      "cell_type": "markdown",
      "metadata": {
        "id": "b7dae73b"
      },
      "source": [
        "Посмотрим, как выглядят обучающие примеры и разметка для них. \n",
        "\n",
        "Напомним, что это всегда нужно делать до начала обучения.\n",
        "\n",
        "Внимательно посмотрите на код, приведенный ниже и убедитесь, что понимаете, в каком формате хранится разметка для изображений."
      ],
      "id": "b7dae73b"
    },
    {
      "cell_type": "code",
      "execution_count": null,
      "metadata": {
        "id": "6f123383"
      },
      "outputs": [],
      "source": [
        "import os\n",
        "import matplotlib.image as mpimg\n",
        "import matplotlib.pyplot as plt\n",
        "import matplotlib.patches as patches\n",
        "\n",
        "prefix = 'dataset_u1'\n",
        "\n",
        "train = sorted(os.listdir(os.path.join(prefix, 'train/images')))\n",
        "valid = sorted(os.listdir(os.path.join(prefix, 'valid/images')))\n",
        "\n",
        "images = [mpimg.imread(os.path.join(prefix, f'train/images/{i}')) for i in train[:10]]\n",
        "labels = []\n",
        "print('Число примеров в тренировочном и валидационном датасетах:', len(train), len(valid))\n",
        "\n",
        "for item in train[:5]:\n",
        "    with open(os.path.join(prefix, f'train/labels/{item[:-4]}.txt'), 'r') as f:\n",
        "        lines = [line.strip() for line in f]\n",
        "        labels.append(lines)\n",
        "\n",
        "        \n",
        "for item, boxes in zip(images, labels):\n",
        "    fig, ax = plt.subplots()\n",
        "    ax.imshow(item)\n",
        "    for box in boxes:\n",
        "        items = box.split(' ')\n",
        "        rect = patches.Rectangle((((float(items[1]) * item.shape[1]) - ((float(items[3]) * item.shape[1]) / 2)),((float(items[2]) * (item.shape[0])) - ((float(items[4]) * item.shape[0]) / 2))),float(items[3]) * item.shape[1], float(items[4]) * item.shape[0], linewidth=1, edgecolor='r', facecolor='none')\n",
        "        ax.add_patch(rect)"
      ],
      "id": "6f123383"
    },
    {
      "cell_type": "markdown",
      "metadata": {
        "id": "e293fd53"
      },
      "source": [
        "## 1.3. Tensorboard"
      ],
      "id": "e293fd53"
    },
    {
      "cell_type": "markdown",
      "metadata": {
        "id": "51b5905d"
      },
      "source": [
        "Tensorboard - это стандартный способ отслеживать процесс обучения. В TensorBoard можно строить графики метрик и лосс-функций, отрисовывать картинки и отслеживать, как они со временем меняются. YOLO v5 автоматически пишет логи в TensorBoard.\n",
        "\n",
        "Мы будем использовать TensorBoard как для обучения YOLO, так и для обучения нашей сети."
      ],
      "id": "51b5905d"
    },
    {
      "cell_type": "code",
      "execution_count": null,
      "metadata": {
        "id": "d0ca83c1",
        "cellView": "form"
      },
      "outputs": [],
      "source": [
        "#@title Запуск TensorBoard\n",
        "\n",
        "%load_ext tensorboard\n",
        "%tensorboard --logdir yolov5"
      ],
      "id": "d0ca83c1"
    },
    {
      "cell_type": "markdown",
      "metadata": {
        "id": "8cb5c04c"
      },
      "source": [
        "## 1.5. Обучение YOLO v5"
      ],
      "id": "8cb5c04c"
    },
    {
      "cell_type": "markdown",
      "metadata": {
        "id": "039a1b71"
      },
      "source": [
        "Запустим процесс обучения на 30 эпох, после чего будем брать лучшие веса(best.pt) из \"runs/train\" и повторять обучение на них, пока не достигнем удовлетворительных результатов. "
      ],
      "id": "039a1b71"
    },
    {
      "cell_type": "markdown",
      "source": [
        "### Задача 1: обучение YOLOv5 из репозитория"
      ],
      "metadata": {
        "id": "7WH6bDFxl6ch"
      },
      "id": "7WH6bDFxl6ch"
    },
    {
      "cell_type": "markdown",
      "metadata": {
        "id": "2nkDmhR-VE_a"
      },
      "source": [
        "Изучите содержимое репозитория YOLOv5. Найдите скрипты для обучения модели, валидации и применения детектора (инфиренса).\n",
        "\n",
        "Изучите параметры скрипта обучения. Обычно посмотреть параметры и их описание можно, вызвав функцию ```%run path/to/script --help```.\n",
        "\n",
        "Проверьте, что обучение работает. Для этого проведите обучение со следующими параметрами:\n",
        "\n",
        "* Размер изображения -- 640\n",
        "* Размер батча -- 32\n",
        "* Количество эпох -- 1\n",
        "* Индекс данных YAML -- найдите соответствующий файл в распакованном датасете\n",
        "* Файл для весов -- ./yolov5.pth\n",
        "* Seed для генератора случайных чисел -- 42\n",
        "\n",
        "После того, как одна эпоха будет пройдена, вы сможете посмотреть на процесс обучения нейронной сети в tensorboard. Для этого нужно обновить отчет (в правом верхнем углу)."
      ],
      "id": "2nkDmhR-VE_a"
    },
    {
      "cell_type": "code",
      "execution_count": null,
      "metadata": {
        "id": "jAIFyoOJhGzd"
      },
      "outputs": [],
      "source": [
        "# !python #YOUR CODE HERE"
      ],
      "id": "jAIFyoOJhGzd"
    },
    {
      "cell_type": "code",
      "execution_count": null,
      "metadata": {
        "id": "jRfRLjpHkt8v"
      },
      "outputs": [],
      "source": [
        "## UNIT TEST FOR 1 epoch\n",
        "\n",
        "import torch\n",
        "\n",
        "os.chdir('/content/yolov5')\n",
        "res = torch.load('/content/yolov5/runs/train/exp/weights/best.pt', map_location='cpu')\n",
        "os.chdir('/content')\n",
        "\n",
        "res = res['model']\n",
        "res = torch.nn.utils.parameters_to_vector(res.parameters())\n",
        "\n",
        "correct = torch.tensor([-0.00541, -0.01634,  0.00120,  0.01668, -0.01585,  0.00966, -0.01685, -0.02988,  0.01142,  0.01114], dtype=torch.float16)\n",
        "assert ((res[:10] - correct).abs().mean() < 1.0e-4)\n",
        "\n",
        "print(\"OK\")\n",
        "\n",
        "print(res.shape)"
      ],
      "id": "jRfRLjpHkt8v"
    },
    {
      "cell_type": "markdown",
      "source": [
        "## 1.5* Задача 2: обучение YOLOv5"
      ],
      "metadata": {
        "id": "v7_6m1b5l-3P"
      },
      "id": "v7_6m1b5l-3P"
    },
    {
      "cell_type": "markdown",
      "metadata": {
        "id": "b2cf12b0"
      },
      "source": [
        "Если вы завели обучение нейронной сети на одной эпохе, то это же обучение может идти и 10 и 1000 эпох вполне успешно \n",
        "\n",
        "```! исключения составляют те случаи, когда в математике нейронной сети допущены ошибки, и со временем веса сети \"взрываются\").```\n",
        "\n",
        "Поэтому для того, чтобы обучить нейронную сеть \"по-серьезному\", достаточно просто увеличить число эпох на обучении.\n",
        "\n",
        "Поставьте 50 эпох и запустите обучение. Посмотрите на процесс обучения, имеет ли смысл продолжать обучение дольше, чем 50 эпох"
      ],
      "id": "b2cf12b0"
    },
    {
      "cell_type": "code",
      "execution_count": null,
      "metadata": {
        "id": "f8c1369c"
      },
      "outputs": [],
      "source": [
        "## YOUR CODE HERE"
      ],
      "id": "f8c1369c"
    },
    {
      "cell_type": "markdown",
      "metadata": {
        "id": "e988312e"
      },
      "source": [
        "Скачайте полный датасет для домашнего задания (13.5 тыс изображений) на https://disk.yandex.ru/d/acMbta8_jBafrg. \n",
        "Вам нужно будет обучить модель на полном датасете и сравнить по метрикам качества (precision, recall, mAP_0.5, mAP_0.5:0.95) с моделью, полученной при обучении на урезанном датасете. Пример модели, полученной на полном датасете: best_fullds.pt"
      ],
      "id": "e988312e"
    },
    {
      "cell_type": "markdown",
      "metadata": {
        "id": "caa04457"
      },
      "source": [
        "\n",
        "## 1.6. Применение нейронной сети"
      ],
      "id": "caa04457"
    },
    {
      "cell_type": "markdown",
      "metadata": {
        "id": "3b57d164"
      },
      "source": [
        "### 1.6.1. Задача 3: скрипт инфиренса"
      ],
      "id": "3b57d164"
    },
    {
      "cell_type": "markdown",
      "metadata": {
        "id": "45aabe28"
      },
      "source": [
        "\n",
        "\n",
        "Найдите скрипт, который осуществляет детекцию объектов. Изучите его аргументы. Запустите этот скрипт на валидационных изображениях из нашего датасета (аргумент ```--source```). Используйте **лучшие** веса из всего процесса обучения (аргумент ```--weights```).\n",
        "\n",
        "По умолчанию артефакты обучения складываются в папку ```yolov5/runs/train/exp<N>```\n",
        "\n",
        "После завершения процедуры, визуализируйте результаты работы по аналогии с тем, как были визуализирован датасет выше.\n",
        "\n"
      ],
      "id": "45aabe28"
    },
    {
      "cell_type": "code",
      "execution_count": null,
      "metadata": {
        "id": "igLLSJPO5uXM"
      },
      "outputs": [],
      "source": [
        "# !python3 ## YOUR CODE HERE"
      ],
      "id": "igLLSJPO5uXM"
    },
    {
      "cell_type": "code",
      "execution_count": null,
      "metadata": {
        "id": "E86a7ney7WG_"
      },
      "outputs": [],
      "source": [
        "# res_dir = 'yolov5/runs/detect/exp'\n",
        "\n",
        "# for imgname in list(sorted(os.listdir(res_dir)))[:10]:\n",
        "    # plt.figure()\n",
        "    # plt.imshow(mpimg.imread(os.path.join(res_dir, imgname)))"
      ],
      "id": "E86a7ney7WG_"
    },
    {
      "cell_type": "markdown",
      "metadata": {
        "id": "6380a80a"
      },
      "source": [
        "## 1.7. Сравнение обучения моделей на урезанном и полном датасетах"
      ],
      "id": "6380a80a"
    },
    {
      "cell_type": "markdown",
      "metadata": {
        "id": "73508af4"
      },
      "source": [
        "### 1.7.1. Количество эпох, графики, метрики"
      ],
      "id": "73508af4"
    },
    {
      "cell_type": "markdown",
      "source": [
        "#### Задача 4: оценка качества модели"
      ],
      "metadata": {
        "id": "Cg7eBOqxvGX5"
      },
      "id": "Cg7eBOqxvGX5"
    },
    {
      "cell_type": "markdown",
      "metadata": {
        "id": "d5cb0e43"
      },
      "source": [
        "В пакете YOLO v5 имеется скрипт для оценки качества модели (```val.py```). Изучите параметры скрипта и запустите валидацию лучшей модели из всего обучения на тренировочных данных."
      ],
      "id": "d5cb0e43"
    },
    {
      "cell_type": "code",
      "execution_count": null,
      "metadata": {
        "id": "aZCB7N-shRqB"
      },
      "outputs": [],
      "source": [
        "# YOUR CODE HERE"
      ],
      "id": "aZCB7N-shRqB"
    },
    {
      "cell_type": "markdown",
      "metadata": {
        "id": "35f7fd74"
      },
      "source": [
        "### 1.7.2. Затраты времени на обучение модели"
      ],
      "id": "35f7fd74"
    },
    {
      "cell_type": "markdown",
      "metadata": {
        "id": "88cfbb5c"
      },
      "source": [
        "NVIDIA GeForce GTX 1080 Ti\n",
        "\n",
        "Затраты времени на обучение в течение 30 эпох на полном датасете - 16,5 часов."
      ],
      "id": "88cfbb5c"
    },
    {
      "cell_type": "markdown",
      "metadata": {
        "id": "wewd1EhAfKLB"
      },
      "source": [
        "# 2. Реализация обучения архитектуры для детекции"
      ],
      "id": "wewd1EhAfKLB"
    },
    {
      "cell_type": "markdown",
      "metadata": {
        "id": "Y3GA1scPaDfU"
      },
      "source": [
        "Приведенное выше – то, с чего стоит начать изучение новой задачи: стоит найти релевантные репозитории и внимательно их изучить, как работают имеющиеся решения. \n",
        "\n",
        "Если ваша задача сделать Proof-of-Concept, то ваша задача – как можно быстрее добежать до результата. В этом случае стоит ограничиться только изучением имеющихся репозиториев, а этап исследований отложить на потом.\n",
        "\n",
        "Если же в какой-то момент необходимо сделать собственное решение, то необходимо будет написать собственный пайплайн обучения. Для продуктов для задачи детекции это достаточно редкое явление. Но мы рассмотрим, как написать такой пайплайн для задачи детекции в учебных целях."
      ],
      "id": "Y3GA1scPaDfU"
    },
    {
      "cell_type": "markdown",
      "metadata": {
        "id": "Vub-6-Fxo9W7"
      },
      "source": [
        "Прежде, чем продолжать, установим ```pytorch lightning```"
      ],
      "id": "Vub-6-Fxo9W7"
    },
    {
      "cell_type": "code",
      "execution_count": null,
      "metadata": {
        "id": "dG7KuA-0CnRd"
      },
      "outputs": [],
      "source": [
        "!pip install -q pytorch-lightning==1.9.3"
      ],
      "id": "dG7KuA-0CnRd"
    },
    {
      "cell_type": "markdown",
      "metadata": {
        "id": "TyoP4-dsfWd7"
      },
      "source": [
        "## 2.1. Датасеты"
      ],
      "id": "TyoP4-dsfWd7"
    },
    {
      "cell_type": "markdown",
      "metadata": {
        "id": "k6FFbTAqjYaf"
      },
      "source": [
        "Так же, как и ранее, добавьте [ссылку на данные](https://drive.google.com/drive/folders/12-WOxjHbUkdEdWl7Tlhrj2lfbYhtznda?usp=share_link) для обучения в свой Google Drive в папку ```Datasets```."
      ],
      "id": "k6FFbTAqjYaf"
    },
    {
      "cell_type": "markdown",
      "metadata": {
        "id": "jggZVgyW50Ly"
      },
      "source": [
        "В качестве датасета будем использовать тот же датасет, что и в 1м разделе ноутбука"
      ],
      "id": "jggZVgyW50Ly"
    },
    {
      "cell_type": "markdown",
      "metadata": {
        "id": "I-OQIhjpjif8"
      },
      "source": [
        "### 2.1.1 Задача 5: сделайте класс датасета"
      ],
      "id": "I-OQIhjpjif8"
    },
    {
      "cell_type": "markdown",
      "metadata": {
        "id": "OtDVx21aRPfB"
      },
      "source": [
        "Мы начнём решение задачи с написания датасета для задачи детекции. Датасет выполняет следующие задачи:\n",
        "\n",
        "1. Хранит информацию (индекс) о датасете\n",
        "    * о количестве изображений\n",
        "    * о том, где какое изображение находится\n",
        "    * о том, где и в каком формате хранится разметка для изображения\n",
        "2. По запросу загружает изображение с разметкой в формате целевых тензоров"
      ],
      "id": "OtDVx21aRPfB"
    },
    {
      "cell_type": "markdown",
      "metadata": {
        "id": "UKnyIVF7pO35"
      },
      "source": [
        "#### Подзадача: подготовьте аугментации"
      ],
      "id": "UKnyIVF7pO35"
    },
    {
      "cell_type": "markdown",
      "metadata": {
        "id": "vbiU7IirVHZj"
      },
      "source": [
        "Подготовьте словарь или структуру ```transforms```, в которой будут храниться агументации для валидации и тренировки. Аугментации будем применять, доступные в библиотеке ```albumentations```. Аугментации объединяйте при помощи класса ```Compose```.\n",
        "\n",
        "На стадии тренировки нам важно, чтобы из обучающих примеров мы могли составить батчи. Для этого нам нужно, чтобы и тензоры входных сигналов (изображения), и целевые тензоры были одинакового размера.\n",
        "\n",
        "Поэтому для ```'train'``` предлагается использовать для начала следующие агументации: `CenterCrop 512, Noramlize, ToTensorV2`.\n",
        "\n",
        "После того, как проверите, что датасет работает так, как нужно, замените ```CenterCrop``` на ```RandomResizedCrop```, чтобы иметь возможность обучать вашу сеть на разнообразных кусочках изображения.\n",
        "\n",
        "Хорошая практика -- делать валидацию в максимально сценарии, который максимально похож на тренировочный. Это нужно для того, чтобы отлавливать проблему перетренированности. Кроме того, удобно на валидацию навешивать Schedulers для уменьшения скорости обучения. Поэтому сделайте аугментации ```'valid'``` точно такими же, как и для тренировки.\n",
        "\n",
        "Для тестирования у нас есть отдельные данные. На этих данных хотелось бы отслеживать целевую метрику. Она должна быть не рандомизированной, поэтому на тестовых данных исключаются рандомизированные аугментации. Кроме того, для тестирования уже нет необходимости укладывать данные в батчи. Да, на батчах тестирование будет выполняться быстрее, но это не принципиально. Поэтому нам нужно только позаботиться о том, чтобы изображение делилось нацело на 32 (это очень частое требование, которое связано с присутствием MaxPooling в архитектуре).\n",
        "\n",
        "Для ```'test'``` используйте следующие аугментации: ```SmallestMaxSize 512, PadIfNeeded /32, Normalize, ToTensorV2```.\n",
        "\n",
        "Мы будем использовать bbox-ы в формате ```Pascal VOC```, поэтому в Compose выставьте параметр bbox_params равным словарю с полями: ```'format': 'pascal_voc', 'label_fields': ['labels']```. Второе свойство означает, что метки классов мы будем хранить по ключу ```'labels'```."
      ],
      "id": "vbiU7IirVHZj"
    },
    {
      "cell_type": "code",
      "execution_count": null,
      "metadata": {
        "id": "AUfw1AUhcQLU"
      },
      "outputs": [],
      "source": [
        "import albumentations as A\n",
        "import cv2\n",
        "from albumentations.pytorch.transforms import ToTensorV2\n",
        "\n",
        "transforms = {\n",
        "    'train': None, ## YOUR CODE HERE\n",
        "    'valid': None, ## YOUR CODE HERE,\n",
        "    'test':  None  ##YOUR CODE HERE\n",
        "}"
      ],
      "id": "AUfw1AUhcQLU"
    },
    {
      "cell_type": "markdown",
      "metadata": {
        "id": "eIKmH_jNpZwc"
      },
      "source": [
        "#### Подзадача: реализуйте класс датасета"
      ],
      "id": "eIKmH_jNpZwc"
    },
    {
      "cell_type": "markdown",
      "metadata": {
        "id": "O62W3MTicqfM"
      },
      "source": [
        "Подготовьте класс ```DetectionDataset```.\n",
        "\n",
        "В нем уже готовы 2 из 3х методов, Вам необходимо сделать только метод ```__getitem__(self, idx)```. В нем нужно сделать следующее:\n",
        "\n",
        "* загрузить изображение (используйте ```PIL.Image```)\n",
        "* загрузить соответствующую разметку\n",
        "* подготовить список bounding box-ов, каждый из которых должен быть представлен в виде списка ```[x_min, y_min, x_max, y_max]```, обратите внимание, что ```x_min < x_max, y_min < y_max```\n",
        "* подготовьте список лейблов для каждого из bounding box-ов\n",
        "* примените агументации к изображению и набору bounding box-ов\n",
        "* создайте для автомобилей и номеров по заготовке целевого тензора из нулей. Размер тензора: ```5 x H/cell x W/cell```, где 5 - это число предсказываемых значений (индикатор наличия, смещение по X, смещение по Y, логарифм высоты, логарифм ширины), ```cell``` - размер ячейки (в нашем случае 8)\n",
        "* в тех ячейках тензора автомобилей, куда попадает центр автомобиля, задайте целевые значения: ```[1, x_shift/cell, y_shift/cell, log(width), log(height)]```\n",
        "* то же самое проделайте с автомобильными номерами\n",
        "* верните изображение (shape должен быть ```3 x H x W```) и целевой тензор (shape должен быть ```10 x H/cell x W/cell```)\n"
      ],
      "id": "O62W3MTicqfM"
    },
    {
      "cell_type": "code",
      "execution_count": null,
      "metadata": {
        "id": "rozpZ0NdgKYb"
      },
      "outputs": [],
      "source": [
        "from torch.utils.data import DataLoader, Dataset\n",
        "import glob\n",
        "import cv2\n",
        "import numpy as np\n",
        "import xml.etree.ElementTree as et\n",
        "import torch\n",
        "from PIL import Image\n",
        "from scipy.ndimage import gaussian_filter\n",
        "\n",
        "\n",
        "class DetectionDataset(Dataset):\n",
        "    def __init__(self, \n",
        "                 dir_path,  \n",
        "                 classes,\n",
        "                 transforms=None,\n",
        "                 cell=8):\n",
        "        \n",
        "        self.transforms = transforms\n",
        "        self.dir_path = dir_path\n",
        "        self.classes = classes\n",
        "        self.cell = cell\n",
        "        \n",
        "        # получение путей всех изображений в отсортированном порядке\n",
        "        self.image_paths = glob.glob(f\"{self.dir_path}/images/*.jpg\")\n",
        "\n",
        "        # получение только названий файлов в отсортированном порядке\n",
        "        self.all_images = [image_path.split(os.path.sep)[-1] for image_path in self.image_paths]\n",
        "        self.all_images = sorted(self.all_images)\n",
        "\n",
        "    def __len__(self):\n",
        "        return len(self.all_images)\n",
        "\n",
        "    def __getitem__(self, idx):\n",
        "        ## YOUR CODE HERE\n",
        "                    \n",
        "        return {'img': image,\n",
        "                'targ': torch.cat([car_target, plate_target], dim=0)}"
      ],
      "id": "rozpZ0NdgKYb"
    },
    {
      "cell_type": "markdown",
      "metadata": {
        "id": "tLqlYhq1pl34"
      },
      "source": [
        "### 2.1.2. Инициализация датасетов"
      ],
      "id": "tLqlYhq1pl34"
    },
    {
      "cell_type": "code",
      "execution_count": null,
      "metadata": {
        "id": "HKtEd0zLj2_l"
      },
      "outputs": [],
      "source": [
        "import yaml\n",
        "\n",
        "stream = open(\"/content/dataset_u1/data.yaml\", \"r\")\n",
        "config = yaml.safe_load(stream)\n",
        "\n",
        "train_ds = DetectionDataset(\n",
        "    '/content/dataset_u1/train/',\n",
        "    classes=config['names'],\n",
        "    transforms=transforms['train']\n",
        ")\n",
        "\n",
        "test_ds = DetectionDataset(\n",
        "    '/content/dataset_u1/valid/',\n",
        "    classes=config['names'],\n",
        "    transforms=transforms['valid']\n",
        ")"
      ],
      "id": "HKtEd0zLj2_l"
    },
    {
      "cell_type": "markdown",
      "metadata": {
        "id": "1F12EhwipvrW"
      },
      "source": [
        "### 2.1.3. Декодирование предсказаний сети (и таргетов датасета), тестирование датасета"
      ],
      "id": "1F12EhwipvrW"
    },
    {
      "cell_type": "markdown",
      "metadata": {
        "id": "Ie5r55DRvjQn"
      },
      "source": [
        "Функция, которая представлена ниже, делает операцию, обратную к тому, что мы делали в датасете, чтобы сформировать целевые тензоры: смотрит на карты присутствия, и в тех ячейках, где вероятность объекта превышает порог, вычисляет смещение и габариты объекта. Найденные bounding boxes, метки и вероятности складываются в списки."
      ],
      "id": "Ie5r55DRvjQn"
    },
    {
      "cell_type": "code",
      "execution_count": null,
      "metadata": {
        "id": "kk48LE_wk4ZS"
      },
      "outputs": [],
      "source": [
        "print(len(train_ds))\n",
        "import numpy\n",
        "import torchvision\n",
        "\n",
        "def decode_result(datum, threshold=1.0, r=8, iou_threshold=0.7):\n",
        "    bboxes = {'boxes': [], 'scores': [], 'labels': []}\n",
        "    datum = {0: datum[:5, :, :], \n",
        "             1: datum[5:, :, :]}\n",
        "\n",
        "    for label in [0, 1]:\n",
        "        mask = (datum[label][0, :, :] >= threshold)\n",
        "\n",
        "        x_cell = torch.arange(mask.shape[1], device=datum[label].device)\n",
        "        y_cell = torch.arange(mask.shape[0], device=datum[label].device)\n",
        "\n",
        "        y_cell, x_cell = torch.meshgrid(y_cell, x_cell)\n",
        "\n",
        "        x_cell = x_cell[mask]\n",
        "        y_cell = y_cell[mask]\n",
        "        \n",
        "        x_shift = datum[label][2, :, :][mask]\n",
        "        y_shift = datum[label][1, :, :][mask]\n",
        "\n",
        "        x = (x_cell + x_shift) * r\n",
        "        y = (y_cell + y_shift) * r\n",
        "\n",
        "        w = datum[label][4, :, :][mask].exp() * r\n",
        "        h = datum[label][3, :, :][mask].exp() * r\n",
        "\n",
        "        scores = datum[label][0, :, :][mask]\n",
        "\n",
        "\n",
        "        for index in range(len(x)):\n",
        "            bboxes['boxes'].append([x[index] - w[index]/2, \n",
        "                         y[index] - h[index]/2, \n",
        "                         x[index] + w[index]/2, \n",
        "                         y[index] + h[index]/2])\n",
        "            bboxes['scores'].append(scores[index])\n",
        "            bboxes['labels'].append(label)\n",
        "\n",
        "    bboxes['boxes'] = torch.tensor(bboxes['boxes']).reshape([-1, 4])\n",
        "    bboxes['scores'] = torch.tensor(bboxes['scores'])\n",
        "    bboxes['labels'] = torch.tensor(bboxes['labels'])\n",
        "\n",
        "    to_keep = torchvision.ops.nms(bboxes['boxes'], bboxes['scores'], iou_threshold=iou_threshold)\n",
        "\n",
        "    bboxes['boxes'] = bboxes['boxes'][to_keep]\n",
        "    bboxes['scores'] = bboxes['scores'][to_keep]\n",
        "    bboxes['labels'] = bboxes['labels'][to_keep]\n",
        "\n",
        "    return bboxes\n",
        "\n",
        "\n",
        "def decode_batch(batch, threshold=0.5, iou_threshold=0.3):\n",
        "    res = []\n",
        "    for index in range(batch.shape[0]):\n",
        "        res.append(decode_result(batch[index], \n",
        "                   threshold=threshold, \n",
        "                   iou_threshold=iou_threshold))\n",
        "    return res\n"
      ],
      "id": "kk48LE_wk4ZS"
    },
    {
      "cell_type": "markdown",
      "metadata": {
        "id": "5SKMMsyGqHfL"
      },
      "source": [
        "### 2.1.4. Отрисовка таргетов\n"
      ],
      "id": "5SKMMsyGqHfL"
    },
    {
      "cell_type": "code",
      "execution_count": null,
      "metadata": {
        "id": "pvufZrmzqFb3"
      },
      "outputs": [],
      "source": [
        "def draw_box(coords, label):\n",
        "    # print(coords)\n",
        "    # print(label)\n",
        "    # return None\n",
        "    x = numpy.array((coords[0], coords[2]))\n",
        "    y = numpy.array((coords[1], coords[3]))\n",
        "    color = 'g'\n",
        "    if label == 0:\n",
        "        color = 'r'\n",
        "\n",
        "    plt.plot(x.mean(), y.mean(), '*' + color)\n",
        "\n",
        "    plt.plot([x[0], x[0]], [y[0], y[1]], color)\n",
        "    plt.plot([x[1], x[1]], [y[0], y[1]], color)\n",
        "    plt.plot([x[0], x[1]], [y[0], y[0]], color)\n",
        "    plt.plot([x[0], x[1]], [y[1], y[1]], color)\n",
        "    # plt.text(x[0], y[0], label, backgroundcolor='red')\n",
        "    \n",
        "\n",
        "datum = train_ds[400]\n",
        "img_min, img_max = datum['img'].min(), datum['img'].max()\n",
        "\n",
        "print(img_min, img_max)\n",
        "print(datum['img'].shape)\n",
        "print(datum['targ'].shape)\n",
        "\n",
        "bboxes = decode_result(datum['targ'])\n",
        "\n",
        "plt.imshow((datum['img'].permute([1, 2, 0]) - img_min) / (img_max - img_min))\n",
        "\n",
        "for index in range(len(bboxes['boxes'])):\n",
        "    draw_box(bboxes['boxes'][index], bboxes['labels'][index])"
      ],
      "id": "pvufZrmzqFb3"
    },
    {
      "cell_type": "markdown",
      "metadata": {
        "id": "5Dkno-cBz2DJ"
      },
      "source": [
        "Если все выполнено правильно, то ячейка выше должна выдавать следующее изображение: \n",
        "\n",
        "![image.png](data:image/png;base64,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)"
      ],
      "id": "5Dkno-cBz2DJ"
    },
    {
      "cell_type": "code",
      "execution_count": null,
      "metadata": {
        "id": "OxFLzG9BJ6JA"
      },
      "outputs": [],
      "source": [
        "plt.imshow(datum['targ'][0, :, :])"
      ],
      "id": "OxFLzG9BJ6JA"
    },
    {
      "cell_type": "markdown",
      "source": [
        "### 2.1.5. Задача 6: подготовка загрузчиков"
      ],
      "metadata": {
        "id": "PzopEJfdzvGw"
      },
      "id": "PzopEJfdzvGw"
    },
    {
      "cell_type": "markdown",
      "source": [
        "Сконфигурируйте и инициализируйте загрузчики данных. Установите на тренировке размер батча 32.\n",
        "\n",
        "Для тренировочных данных установите случайное перемешивание и отбрасывание последнего батча."
      ],
      "metadata": {
        "id": "LhBy0Jzssxs9"
      },
      "id": "LhBy0Jzssxs9"
    },
    {
      "cell_type": "markdown",
      "source": [
        "##### Подсказка: аргументы загрузчиков"
      ],
      "metadata": {
        "id": "_cy_-69ls0nL"
      },
      "id": "_cy_-69ls0nL"
    },
    {
      "cell_type": "markdown",
      "source": [
        "Для тренировочного датасета выставьте:\n",
        "* `batch_size` равным `32`\n",
        "* `num_workers` равным `4`\n",
        "* `shuffle` равным `True`\n",
        "* `drop_last` равным `True`\n",
        "\n",
        "Для тестового датасета выставьте:\n",
        "* `batch_size` равным `1`\n",
        "* `num_workers` равным `1`\n",
        "* `shuffle` равным `False`"
      ],
      "metadata": {
        "id": "Mgkqhot_s3DJ"
      },
      "id": "Mgkqhot_s3DJ"
    },
    {
      "cell_type": "markdown",
      "source": [
        "#### Код"
      ],
      "metadata": {
        "id": "PY75Thd89fKE"
      },
      "id": "PY75Thd89fKE"
    },
    {
      "cell_type": "code",
      "execution_count": null,
      "metadata": {
        "id": "1C1rQnxRx9Ti"
      },
      "outputs": [],
      "source": [
        "\n",
        "from torch.utils.data import DataLoader\n",
        "from tqdm import tqdm\n",
        "\n",
        "dl_train = DataLoader(\n",
        "    ## YOUR CODE HERE\n",
        "    )\n",
        "\n",
        "print(len(test_ds))\n",
        "\n",
        "dl_test = DataLoader(\n",
        "    ## YOUR CODE HERE\n",
        "    )\n",
        "\n",
        "    "
      ],
      "id": "1C1rQnxRx9Ti"
    },
    {
      "cell_type": "code",
      "execution_count": null,
      "metadata": {
        "id": "LJnMol8qwYqF"
      },
      "outputs": [],
      "source": [
        "# for datum in dl_test:\n",
        "\n",
        "#     print(datum['img'].shape)\n",
        "    "
      ],
      "id": "LJnMol8qwYqF"
    },
    {
      "cell_type": "markdown",
      "metadata": {
        "id": "AmEvBbIUwghf"
      },
      "source": [
        "### 2.1.6. Проверка работоспособности загрузчиков"
      ],
      "id": "AmEvBbIUwghf"
    },
    {
      "cell_type": "code",
      "execution_count": null,
      "metadata": {
        "id": "dyFi4Gtxwfli"
      },
      "outputs": [],
      "source": [
        "print(\"Testing train dataloader\")\n",
        "for datum in tqdm(dl_train):\n",
        "    pass\n",
        "print(\"Success\")\n",
        "\n",
        "print(\"Testing validation dataloader\")\n",
        "for datum in tqdm(dl_test):\n",
        "    pass\n",
        "print(\"Success\")"
      ],
      "id": "dyFi4Gtxwfli"
    },
    {
      "cell_type": "markdown",
      "metadata": {
        "id": "v0eZefVtfdiL"
      },
      "source": [
        "## 2.2. Архитектура нейронной сети"
      ],
      "id": "v0eZefVtfdiL"
    },
    {
      "cell_type": "markdown",
      "metadata": {
        "id": "vBhLVA24l4vT"
      },
      "source": [
        "Для того, чтобы реализовать нейронную сеть, которая будет решать нашу задачу детекции, можно пойти двумя путями:\n",
        "\n",
        "* взять уже обученный детектор и поменять в нем \"голову\" (или \"головы\", если их несколько)\n",
        "* построить свой детектор ~~с блекджеком~~ без якорей на основе какой-нибудь предобученной нейронной сети\n",
        "\n",
        "В первом случае нужно только найти головы в архитектуре и заменить их на новые, а потом полученный результат дообучить.\n",
        "\n",
        "Во втором случае скорее всего будет необходимо выбрать некоторую архитектуру для задачи сегментации, к ней приделать модуль, который осуществляет детекцию, и далее обучить детектор. \n",
        "\n",
        "В нашем случае есть всего два класса, так что можно даже не волноваться по поводу якорей, а просто решить задачу при помощи двух детекторов для двух различных классов.\n",
        "\n",
        "Скорее всего в нашем случае хорошо сработает именно первый подход, поскольку у нас очень мало данных: всего несколько тысяч изображений. Обычно в таких случаях обучать что-то достаточно глубокое -- занятие неблагодарное. Более того, очень вероятно, что будет даже лучше не дообучать всю архитектуру, а достаточно будет просто натренировать новые слои.\n",
        "\n",
        "Но второй подход тоже стоит попробовать. Ниже будет расписан пример для реализации первого подхода."
      ],
      "id": "vBhLVA24l4vT"
    },
    {
      "cell_type": "markdown",
      "source": [
        "### 2.2.1. Задача 7. Переделайте детектор Retina"
      ],
      "metadata": {
        "id": "Z50YcewO-Ne6"
      },
      "id": "Z50YcewO-Ne6"
    },
    {
      "cell_type": "markdown",
      "metadata": {
        "id": "sCU9oJ2noEnq"
      },
      "source": [
        "\n",
        "\n",
        "Для того, чтобы сделать архитектуру нейронной сети, необходимо определить класс, унаследованный от `torch.nn.Module`, в котором должны быть определены следующие методы:\n",
        "\n",
        "* ```__init__(self)``` -- конструктор, в котором нужно определить модули нейронной сети, которые будут использованы (так же, как в PyTorch). Кроме того, тут необходимо инициализировать классы метрик и лосс-функций. Перед объявлением модулей, необходимо вызвать ```super().__init__()``` для инициализации родительского класса, который обеспечивает основной функционал.\n",
        "\n",
        "* ```forward(self, input)``` -- прямой проход по сети. Здесь нужно из ```input``` сделать прогнозы при помощи модулей, определенных в конструкторе (тут тоже ничего особенного, так же, как и в PyTorch).\n",
        "\n",
        "В качестве базовой модели мы будем использовать предобученную архитектуру из библиотеки  ```torchvision```, а именно ```torchvision.models.detection.retinanet_resnet50_fpn_v2```. При этом нам понадобятся не все карты активации, которые генерирует backbone, а только одна. Нас будет интересовать карта активации, в которой максимальное количество ячеек для детекции, то есть ```[0]``` тензор результата работы backbone.\n",
        "\n",
        "В качестве ```head``` модели предлагается определить сверточный слой. Можно сделать два последовательных сверточных слоя и посмотреть, что будет лучше обучаться.\n",
        "\n",
        "Результат работы сети будет тензором с 10 картами активации:\n",
        "\n",
        "* Автомобиль:\n",
        "    * 0: Логит индикатора автомобиля\n",
        "    * 1-2: Логиты центра автомобиля\n",
        "    * 3-4: Логарифмы габаритов автомобиля\n",
        "* Номер:\n",
        "    * 5: Логит индикатора номера\n",
        "    * 6-7: Логиты центра номера в ячейке\n",
        "    * 8-9: Логарифмы габаритов номера \n"
      ],
      "id": "sCU9oJ2noEnq"
    },
    {
      "cell_type": "markdown",
      "source": [
        "#### Подсказка:"
      ],
      "metadata": {
        "id": "KPca2RpJFWFz"
      },
      "id": "KPca2RpJFWFz"
    },
    {
      "cell_type": "markdown",
      "source": [
        "* в методе ```__init__``` \n",
        "    * инициализируйте ```self.backbone``` равным ```torchvision.models.detection.retinanet_resnet50_fpn_v2``` с весами\n",
        "    * инициализируйте ```self.detector``` равным ```torch.nn.Conv2d C_IN->10 3x3```\n",
        "\n",
        "* в методе ```forward```:\n",
        "    * считайте, что ```input``` -- это батч изображений размером ```B x 3 x X x Y```\n",
        "    * сделайте прямой проход (```forward```) ```self.model.backbone```\n",
        "    * изучите тензоры, которые получились в результате прямого прохода\n",
        "    * выберите тот тензор, пространственное разрешение которого максимально\n",
        "    * посмотрите, сколько каналов в этом тензоре. Вычислите размер ячейки, это пригодится позже\n",
        "    * сделайте прямой проход через ```self.detector```\n",
        "    * верните результат\n"
      ],
      "metadata": {
        "id": "mDoJxNN5CVxt"
      },
      "id": "mDoJxNN5CVxt"
    },
    {
      "cell_type": "markdown",
      "source": [
        "#### Код:"
      ],
      "metadata": {
        "id": "9dqAQ9AnFX0e"
      },
      "id": "9dqAQ9AnFX0e"
    },
    {
      "cell_type": "code",
      "source": [
        "import torchvision\n",
        "import torch\n",
        "\n",
        "class RetinaRehead(torch.nn.Module):\n",
        "    def __init__(self):\n",
        "        super().__init__()\n",
        "        ## YOUR CODE HERE\n",
        "\n",
        "\n",
        "    def forward(self, input):\n",
        "        res = input\n",
        "        ## YOUR CODE HERE\n",
        "        return res"
      ],
      "metadata": {
        "id": "tgKNfsr-FEfi"
      },
      "id": "tgKNfsr-FEfi",
      "execution_count": null,
      "outputs": []
    },
    {
      "cell_type": "code",
      "execution_count": null,
      "metadata": {
        "id": "IU7yjm2R1pbZ"
      },
      "outputs": [],
      "source": [
        "model = RetinaRehead()\n",
        "model.eval()\n",
        "res = model.forward(torch.zeros(10, 3, 512, 1024))\n",
        "print(res.shape)"
      ],
      "id": "IU7yjm2R1pbZ"
    },
    {
      "cell_type": "markdown",
      "source": [
        "## 2.3. Функции потерь"
      ],
      "metadata": {
        "id": "wu_NFvM2Gnzm"
      },
      "id": "wu_NFvM2Gnzm"
    },
    {
      "cell_type": "markdown",
      "source": [
        "### Задача 8: Реализуйте функции потерь"
      ],
      "metadata": {
        "id": "Y1uKAKkdJdPT"
      },
      "id": "Y1uKAKkdJdPT"
    },
    {
      "cell_type": "markdown",
      "metadata": {
        "id": "9wddOuoZxTiF"
      },
      "source": [
        "Для того, чтобы реализовать функцию потерь, при помощи которой мы будем обучать модель детекции, необходимо создать отдельно 3 функции ошибки:\n",
        "\n",
        "* ```loss_object(pred, target)```  - для отклонения по классу используем sigmoid_focal_loss\n",
        "* ```loss_center(pred, target)``` - для отклонения точки центра применяем binary_cross_entropy_with_logits\n",
        "* ```loss_size(pred, target)``` - для отклонений по w и h возвращаем сумму модулей отклонений.\n",
        "\n",
        "Обычно для ошибок используется усреднение по пространственным измерениям и батчу. В нашем случае необходимо использовать суммирование. Это происходит из-за того, что функцию ошибки для центра и размера мы рассчитываем только в тех ячейках, где присутствует объект.\n",
        "\n",
        "Помните, что лоссы для центра и габаритов рассчитываются только в тех ячейках, где соответствующие объекты присутствуют.\n",
        "\n",
        "На вход функции потерь подаются ```pred``` и ```target```. \n",
        "\n",
        "На выходе должно быть значение ошибки (скаляр). \n",
        "\n",
        "Не забываем, что ошибка должна считаться при любом ```batch_size```.  "
      ],
      "id": "9wddOuoZxTiF"
    },
    {
      "cell_type": "code",
      "source": [
        "def loss_object(pred, targ):\n",
        "    # Object presence loss\n",
        "    ## YOUR CODE HERE\n",
        "    return obj_loss\n",
        "\n",
        "\n",
        "def loss_center(pred, targ):\n",
        "    # Center coordinates loss\n",
        "    ## YOUR CODE HERE\n",
        "\n",
        "    #Wrapping everything up\n",
        "    return x_loss + y_loss\n",
        "\n",
        "\n",
        "def loss_size(pred, targ):\n",
        "    # Width and height loss\n",
        "    ## YOUR CODE HERE\n",
        "\n",
        "    return w_loss + h_loss\n"
      ],
      "metadata": {
        "id": "lw362nFLIiCK"
      },
      "id": "lw362nFLIiCK",
      "execution_count": null,
      "outputs": []
    },
    {
      "cell_type": "markdown",
      "source": [
        "## 2.4. Pytorch Lightning"
      ],
      "metadata": {
        "id": "Zde8XPVJUhjq"
      },
      "id": "Zde8XPVJUhjq"
    },
    {
      "cell_type": "code",
      "execution_count": null,
      "metadata": {
        "cellView": "form",
        "id": "OB7yPNZTG_2g"
      },
      "outputs": [],
      "source": [
        "#@title Custom ProgressBar Code (код сложный, можно не смотреть)\n",
        "\n",
        "import pytorch_lightning as pl\n",
        "import sys\n",
        "import math\n",
        "import time\n",
        "import datetime\n",
        "import copy\n",
        "import numpy\n",
        "import os\n",
        "\n",
        "try:\n",
        "    from IPython.display import display, update_display\n",
        "except:\n",
        "    pass\n",
        "\n",
        "def isnotebook():\n",
        "    try:\n",
        "        shell = get_ipython().__class__.__name__\n",
        "        module = get_ipython().__class__.__module__\n",
        "        if module == \"google.colab._shell\":\n",
        "            return True\n",
        "        if shell == 'ZMQInteractiveShell':\n",
        "            return True   # Jupyter notebook or qtconsole\n",
        "        elif shell == 'TerminalInteractiveShell':\n",
        "            return False  # Terminal running IPython\n",
        "        else:\n",
        "            return False  # Other type (?)\n",
        "    except NameError:\n",
        "        return False\n",
        "\n",
        "def nlines(text):\n",
        "    return text.count('\\n') + 1\n",
        "\n",
        "status = {\n",
        "    'Info': '5/10 [######9     ] 59%',\n",
        "    'Time/D': 0.9999999999999999999999,\n",
        "    'Time/B': 0.1238476123864126345187245,\n",
        "    'Time/AvgD': 0.812341348176234987162349817643,\n",
        "    'Time/AvgB': 0.8561283745187634581726345,\n",
        "    'Loss/L1': 112398746192834619827364,\n",
        "    'Loss/L2': 19234618623.0,\n",
        "    'Loss/L2.5': 1,\n",
        "    'Loss/L3': 0.8126347152,\n",
        "    'Loss/L4': 10,\n",
        "    'Loss/L5': numpy.inf,\n",
        "    'Metrics/One': 0.888888,\n",
        "    'Metrics/Two': 123987.0,\n",
        "    'Metrics/Three': 1.0\n",
        "}\n",
        "\n",
        "\n",
        "def textcolor(style=None, color=None):\n",
        "    if color is None:\n",
        "        color = 0\n",
        "    else:\n",
        "        color_code = 30 + color\n",
        "    if style is None:\n",
        "        style_code = 0\n",
        "    else:\n",
        "        style_code = style\n",
        "    return '\\033[' + str(style_code) + ';' + str(color_code) + 'm', '\\033[' + str(0) + ';' + str(0) + 'm'\n",
        "\n",
        "\n",
        "def format_status(inp):\n",
        "    if isinstance(inp, (dict)):\n",
        "        for key in inp:\n",
        "            inp[key] = format_status(inp[key])\n",
        "\n",
        "    if isinstance(inp, (list, tuple)):\n",
        "        for index in range(len(inp)):\n",
        "            inp[index] = format_status(inp[index])\n",
        "\n",
        "    if isinstance(inp, torch.Tensor):\n",
        "        inp = inp.detach().cpu().numpy()\n",
        "\n",
        "    if isinstance(inp, int):\n",
        "        if abs(inp) > 10 ** 6:\n",
        "            return '{:.3e}'.format(inp)\n",
        "        else:\n",
        "            return '{:d}'.format(inp)\n",
        "\n",
        "    if isinstance(inp, float):\n",
        "        if abs(inp) > 10 ** 6:\n",
        "            return '{:.3e}'.format(inp)\n",
        "        elif abs(inp) < 10 ** -6:\n",
        "            return '{:.3e}'.format(inp)\n",
        "        else:\n",
        "            return '{:.6f}'.format(inp)\n",
        "\n",
        "    return inp\n",
        "\n",
        "\n",
        "def colorize_string(string, colors, padding=0):\n",
        "    indice = []\n",
        "    for color in colors:\n",
        "        indice.append(colors[0])\n",
        "\n",
        "    substrings = []\n",
        "    last_index = 0\n",
        "    for color in colors:\n",
        "        index = color[0] + padding\n",
        "        substrings.append(string[last_index:index])\n",
        "        substrings.append(color[1])\n",
        "        last_index = index\n",
        "    substrings.append(string[last_index:])\n",
        "    return ''.join(substrings)\n",
        "\n",
        "\n",
        "def view_status(inp, display_len=80):\n",
        "    separator = ' | '\n",
        "    strings = ['']\n",
        "    colors = [[]]\n",
        "    color_index = 0\n",
        "\n",
        "    maxlen = 0\n",
        "    for key in inp:\n",
        "        maxlen = max(len(str(key)), maxlen)\n",
        "\n",
        "    for key in inp:\n",
        "\n",
        "        start, end = textcolor(style=1, color=color_index + 1)\n",
        "        colors[-1].append((len(strings[-1]), start))\n",
        "        strings[-1] += ('{:>' + str(maxlen) + 's} ').format(key)\n",
        "        colors[-1].append((len(strings[-1]), end))\n",
        "\n",
        "        if isinstance(inp[key], (list, tuple)):\n",
        "            strings[-1] += separator.join(inp[key])\n",
        "\n",
        "        elif isinstance(inp[key], dict):\n",
        "            pos = len(strings[-1])\n",
        "            subres = []\n",
        "\n",
        "            for subkey in inp[key]:\n",
        "                start, end = textcolor(style=3, color=color_index + 1)\n",
        "                colors[-1].append((pos, start))\n",
        "                colors[-1].append((pos + len(subkey), end))\n",
        "                subres.append(subkey + ': ' + str(inp[key][subkey]))\n",
        "                pos = pos + len(subkey) + len(': ') + len(str(inp[key][subkey])) + len(separator)\n",
        "            strings[-1] += separator.join(subres)\n",
        "\n",
        "        else:\n",
        "            strings[-1] += str(inp[key])\n",
        "\n",
        "        strings.append('')\n",
        "        colors.append([])\n",
        "\n",
        "        color_index += 1\n",
        "        color_index %= 6\n",
        "\n",
        "    new_strings = []\n",
        "    new_colors = []\n",
        "    new_strings.append('=' * display_len)\n",
        "    for index in range(len(strings)):\n",
        "        string = strings[index]\n",
        "        str_colors = colors[index]\n",
        "        position = 0\n",
        "        color_index = 0\n",
        "        padding = 0\n",
        "        while len(string) > 0:\n",
        "            splitter_location = -1\n",
        "\n",
        "            if len(string) > display_len:\n",
        "                splitter_location = string[:display_len].rfind(' | ')\n",
        "\n",
        "            split_colors = []\n",
        "\n",
        "            if splitter_location > 0:\n",
        "                string_end = splitter_location\n",
        "            else:\n",
        "                string_end = min(display_len, len(string))\n",
        "            while color_index < len(colors[index]) and colors[index][color_index][0] - position < string_end - padding:\n",
        "                split_colors.append(list(colors[index][color_index]))\n",
        "                split_colors[-1][0] -= position\n",
        "                color_index += 1\n",
        "\n",
        "            if len(string) < display_len:\n",
        "                to_print = string\n",
        "                to_print = to_print + ' ' * (display_len - len(to_print))\n",
        "                new_strings.append(colorize_string(to_print, split_colors, padding=padding))\n",
        "                break\n",
        "\n",
        "            elif splitter_location > 0:\n",
        "                to_print = string[:splitter_location]\n",
        "                to_print = to_print + ' ' * (display_len - len(to_print))\n",
        "                new_strings.append(colorize_string(to_print, split_colors, padding=padding))\n",
        "                split_colors = []\n",
        "                string = ' ' * (maxlen + 1) + string[splitter_location + 3:]\n",
        "                position += splitter_location + 3 - padding\n",
        "                padding = maxlen + 1\n",
        "\n",
        "            else:\n",
        "                to_print = string[:string_end]\n",
        "                to_print = to_print + ' ' * (display_len - len(to_print))\n",
        "                new_strings.append(colorize_string(to_print, split_colors, padding=padding))\n",
        "                split_colors = []\n",
        "                string = ' ' * (maxlen + 1) + string[string_end:]\n",
        "                position += string_end - padding\n",
        "                padding = maxlen + 1\n",
        "\n",
        "    new_strings.append('=' * display_len)\n",
        "    return '\\n'.join(new_strings)\n",
        "\n",
        "\n",
        "def dict_to_multidict(status):\n",
        "    decomposed_status = {}\n",
        "    for key in list(status.keys()):\n",
        "        key_parts = key.split('/')\n",
        "        if len(key_parts) > 2:\n",
        "            continue\n",
        "\n",
        "        if len(key_parts) > 1:\n",
        "            superkey = key_parts[0]\n",
        "            subkey = '/'.join(key_parts[1:])\n",
        "\n",
        "            if superkey not in decomposed_status:\n",
        "                decomposed_status[superkey] = {}\n",
        "\n",
        "            decomposed_status[superkey][subkey] = status[key]\n",
        "        else:\n",
        "            decomposed_status[key] = status[key]\n",
        "\n",
        "    return decomposed_status\n",
        "\n",
        "\n",
        "def isnotebook():\n",
        "    try:\n",
        "        shell = get_ipython().__class__.__name__\n",
        "        module = get_ipython().__class__.__module__\n",
        "        if module == \"google.colab._shell\":\n",
        "            return True\n",
        "        if shell == 'ZMQInteractiveShell':\n",
        "            return True   # Jupyter notebook or qtconsole\n",
        "        elif shell == 'TerminalInteractiveShell':\n",
        "            return False  # Terminal running IPython\n",
        "        else:\n",
        "            return False  # Other type (?)\n",
        "    except NameError:\n",
        "        return False\n",
        "\n",
        "\n",
        "def nlines(text):\n",
        "    return text.count('\\n') + 1\n",
        "\n",
        "\n",
        "def get_width():\n",
        "    try:\n",
        "        return os.get_terminal_size()[0] - 1\n",
        "    except :\n",
        "        return 100\n",
        "\n",
        "\n",
        "\n",
        "class StageProgressBar:\n",
        "    def __init__(self, width_function=None, display_id='ep{}'.format(0), is_ipython=None):\n",
        "        self.width_function = width_function\n",
        "            \n",
        "\n",
        "        self.last_vals = None\n",
        "        self.finalized = False\n",
        "        self.started = False\n",
        "\n",
        "        self.is_ipython = isnotebook() if is_ipython is None else is_ipython\n",
        "        self.display_id = display_id\n",
        "\n",
        "    def __str__(self):\n",
        "        status = format_status(self.last_vals)\n",
        "        to_view = view_status(dict_to_multidict(status), display_len=self.width)\n",
        "        return to_view\n",
        "\n",
        "    def display(self, content):\n",
        "        if not self.is_ipython:\n",
        "            print(content, end='')\n",
        "            print('\\033[' + str(nlines(content)) + 'A')\n",
        "        else:\n",
        "            # print(self.display_id)\n",
        "            update_display({'text/plain': content}, display_id=self.display_id, raw=True)\n",
        "    \n",
        "    def __del__(self):\n",
        "        self.finalize()\n",
        "    \n",
        "    def update(self, vals):\n",
        "        if self.finalized:\n",
        "            return\n",
        "        \n",
        "        self.width = self.width_function()\n",
        "        self.last_vals = vals\n",
        "        cur_info = str(self)\n",
        "\n",
        "        if not self.started:\n",
        "            self.started = True\n",
        "            if self.is_ipython:\n",
        "                print(self.display_id, '<- display_id')\n",
        "                display({'text/plain': ''}, display_id=self.display_id, raw=True)\n",
        "\n",
        "        self.display(cur_info)\n",
        "\n",
        "    def finalize(self):\n",
        "        if (not self.finalized) and (not self.is_ipython):\n",
        "            print(str(self))\n",
        "\n",
        "def progress_str(width, state):\n",
        "    progress = width * state\n",
        "    filled = int(math.floor(progress))\n",
        "\n",
        "    if filled < width:\n",
        "        remnant = str(int(math.floor((progress - filled) * 10.0)))\n",
        "        return '[' + '='* filled + remnant + ' ' * (width - filled - 1) + ']'\n",
        "    else:\n",
        "        return '[' + '=' * width + ']'\n",
        "\n",
        "class TimeEstimator:\n",
        "    def __init__(self, eta_threshold=0.001):\n",
        "        self.eta_threshold = eta_threshold\n",
        "        self.reset()\n",
        "\n",
        "    def reset(self):\n",
        "        self.start_time = time.time()\n",
        "        self.cur_state = 0\n",
        "        self.est_finish_time = None\n",
        "        return self\n",
        "\n",
        "    def update(self, cur_state):\n",
        "        self.cur_state = cur_state\n",
        "        if self.cur_state >= self.eta_threshold:\n",
        "            self.est_finish_time = self.start_time + (time.time() - self.start_time) / self.cur_state\n",
        "\n",
        "    def __str__(self):\n",
        "        elapsed = str(datetime.timedelta(seconds=int(time.time() - self.start_time)))\n",
        "        if self.est_finish_time is not None:\n",
        "            eta = str(datetime.timedelta(seconds=int(self.est_finish_time - time.time())))\n",
        "        else:\n",
        "            eta = '?'\n",
        "\n",
        "        return f'[{elapsed}>{eta}]'\n",
        "    \n",
        "\n",
        "class LiteProgressBar(pl.callbacks.ProgressBarBase):\n",
        "    def __init__(self):\n",
        "        super().__init__()\n",
        "        self.last_epoch = 0\n",
        "        self.pbar = StageProgressBar(width_function=get_width, display_id='ep{}'.format(0))\n",
        "        self.timer = TimeEstimator()\n",
        "        self.display_counter = 0\n",
        "\n",
        "    def disable(self):\n",
        "        self.enable = False\n",
        "\n",
        "    def on_train_epoch_start(self, *args, **kwargs):\n",
        "        super().on_train_epoch_start(*args, **kwargs)\n",
        "        self.timer.reset()\n",
        "        trainer = args[0]\n",
        "        log = copy.deepcopy(trainer.logged_metrics)\n",
        "        if 'epoch' in log:\n",
        "            log['Info/epoch'] = copy.deepcopy(log['epoch'])\n",
        "            del log['epoch']\n",
        "        log['Info/Mode'] = 'train'\n",
        "        log['Info/Progress'] = progress_str(15, 0)\n",
        "        log['Info/Time'] = str(self.timer)\n",
        "        self.pbar.update(log)\n",
        "        self.pbar.update(trainer.logged_metrics)\n",
        "\n",
        "    def on_train_epoch_end(self, *args, **kwargs):\n",
        "        super().on_train_epoch_end(*args, **kwargs)\n",
        "        trainer = args[0]\n",
        "        log = copy.deepcopy(trainer.logged_metrics)\n",
        "        if 'epoch' in log:\n",
        "            log['Info/epoch'] = copy.deepcopy(log['epoch'])\n",
        "            del log['epoch']\n",
        "        log['Info/Mode'] = 'train'\n",
        "        log['Info/Progress'] = progress_str(15, 1.0)\n",
        "        log['Info/Time'] = str(self.timer)\n",
        "        self.pbar.update(log)\n",
        "        self.pbar.update(trainer.logged_metrics)\n",
        "\n",
        "    def on_train_batch_end(self, *args, **kwargs):\n",
        "        super().on_train_batch_end(*args, **kwargs)\n",
        "        self.timer.update(float(self.train_batch_idx)/float(self.total_train_batches))\n",
        "        trainer = args[0]\n",
        "        log = copy.deepcopy(trainer.logged_metrics)\n",
        "        if 'epoch' in log:\n",
        "            log['Info/epoch'] = copy.deepcopy(log['epoch'])\n",
        "            del log['epoch']\n",
        "        log['Info/Mode'] = 'train'\n",
        "        log['Info/Progress'] = progress_str(15, float(self.train_batch_idx)/float(self.total_train_batches)) + ' ' + str(self.train_batch_idx) + ' / ' + str(self.total_train_batches)\n",
        "        log['Info/Time'] = str(self.timer)\n",
        "        self.pbar.update(log)\n",
        "\n",
        "    def on_validation_epoch_start(self, *args, **kwargs):\n",
        "        super().on_validation_epoch_start(*args, **kwargs)\n",
        "        self.timer.reset()\n",
        "        trainer = args[0]\n",
        "        log = trainer.logged_metrics\n",
        "        if 'epoch' in log:\n",
        "            log['Info/epoch'] = copy.deepcopy(log['epoch'])\n",
        "            del log['epoch']\n",
        "        log['Info/Mode'] = 'val'\n",
        "        log['Info/Progress'] = progress_str(15, 0)\n",
        "        log['Info/Time'] = str(self.timer)\n",
        "        self.pbar.update(log)\n",
        "        self.pbar.update(trainer.logged_metrics)\n",
        "\n",
        "    def on_validation_epoch_end(self, *args, **kwargs):\n",
        "        super().on_validation_epoch_end(*args, **kwargs)\n",
        "        trainer = args[0]\n",
        "        log = copy.deepcopy(trainer.logged_metrics)\n",
        "        if 'epoch' in log:\n",
        "            log['Info/epoch'] = copy.deepcopy(log['epoch'])\n",
        "            del log['epoch']\n",
        "        log['Info/Mode'] = 'val'\n",
        "        log['Info/Progress'] = progress_str(15, 1.0)\n",
        "        log['Info/Time'] = str(self.timer)\n",
        "        self.pbar.update(log)\n",
        "        self.pbar.update(trainer.logged_metrics)\n",
        "\n",
        "    def on_validation_batch_end(self, *args, **kwargs):\n",
        "        super().on_validation_batch_end(*args, **kwargs)\n",
        "        self.timer.update(float(self.val_batch_idx)/float(self.total_val_batches))\n",
        "        trainer = args[0]\n",
        "        log = copy.deepcopy(trainer.logged_metrics)\n",
        "        if 'epoch' in log:\n",
        "            log['Info/epoch'] = copy.deepcopy(log['epoch'])\n",
        "            del log['epoch']\n",
        "        log['Info/Mode'] = 'val'\n",
        "        log['Info/Progress'] = progress_str(15, float(self.val_batch_idx)/float(self.total_val_batches)) + ' ' + str(self.val_batch_idx) + ' / ' + str(self.total_val_batches)\n",
        "        log['Info/Time'] = str(self.timer)\n",
        "        self.pbar.update(log)"
      ],
      "id": "OB7yPNZTG_2g"
    },
    {
      "cell_type": "markdown",
      "source": [
        "### 2.4.1. Задача 9: сделайте Pytorch Lightning модуль для обучения детектора"
      ],
      "metadata": {
        "id": "HaljkFwPU2yg"
      },
      "id": "HaljkFwPU2yg"
    },
    {
      "cell_type": "markdown",
      "metadata": {
        "id": "FJ-RNUaTxags"
      },
      "source": [
        "Реализуйте класс Pytorch Lightning для обучения модели детектора. Для этого\n",
        "\n",
        "* Возьмите уже готовы класс ```Pytorch Lightning``` из блокнота про MNIST\n",
        "* Замените модель, функцию потерь и датасет на новые\n",
        "* Убедитесь в том, что оптимизатор инициализируется совместно с шедулером, для оптимизатора ```AdamW``` используйте следующие параметры: ```learning_rate=1.0e-4, weight_decay=1.0e-8```, настройте шедулер под этот оптимизатор, который будет отслеживать лосс функцию на валидации. Для помощи используйте документацию ```configure_optimizer```.\n",
        "* Измените методы ```training_step``` и ```validation_step``` таким образом, чтобы тренировка запускалась, убедитесь, что функция ошибки падает.\n",
        "* Сделайте логирование значений лоссов \n",
        "* Добавьте метрику ```MeanAveragePrecision``` из пакета ```torchmetrics.detection``` для валидации и тренировки\n",
        "* Для того, чтобы из выходного тензора получать bounding boxes, используйте определенную выше функцию ```decode_batch```. Убедитесь, что понимаете, как устроена эта функция и что она возвращает.\n",
        "* В функциях ```training_step``` и ```validation_step``` добавьте обновления MAP метрик для валидации и тренировки\n",
        "* В методах ```on_training_epoch_end``` и ```on_validation_epoch_end``` добавьте для каждой 10 эпохи расчет и логгирование значений метрик MAP. Нас будет интересовать только значение метрики ```map_50```\n",
        "* В методах ```on_training_epoch_start``` и ```on_validation_epoch_start``` добавьте сброс метрик MAP для тренировки и валидации.\n"
      ],
      "id": "FJ-RNUaTxags"
    },
    {
      "cell_type": "code",
      "source": [
        "import pytorch_lightning as pl\n",
        "from torchmetrics.detection.mean_ap import MeanAveragePrecision\n",
        "\n",
        "class PLModel(pl.LightningModule):\n",
        "    def __init__(self, \n",
        "                 model):\n",
        "        super().__init__()\n",
        "        self.model = model\n",
        "\n",
        "    def forward(self, input):\n",
        "        return self.model.forward(input)\n",
        "\n",
        "    def training_step(self, batch, batch_idx):\n",
        "        X = batch['img']\n",
        "        targ = batch['targ']\n",
        "        ## YOUR CODE HERE\n",
        "\n",
        "        return loss_value\n",
        "\n",
        "    def validation_step(self, batch, batch_idx):\n",
        "        X = batch['img']\n",
        "        targ = batch['targ']\n",
        "        ## YOUR CODE HERE\n",
        "\n",
        "        return loss_value\n",
        "\n",
        "    def on_train_epoch_start(self, *args, **kwargs):\n",
        "        pass\n",
        "        ## YOUR CODE HERE\n",
        "\n",
        "    def on_train_epoch_end(self, *args, **kwargs):\n",
        "        pass\n",
        "        ## YOUR CODE HERE\n",
        "      \n",
        "\n",
        "    def configure_optimizers(self):\n",
        "        ## YOUR CODE HERE\n",
        "        optimizer = ...\n",
        "        lr_scheduler = ...\n",
        "        return {'optimizer': optimizer, 'lr_scheduler': lr_scheduler}"
      ],
      "metadata": {
        "id": "ZkYRVaKPa4yI"
      },
      "id": "ZkYRVaKPa4yI",
      "execution_count": null,
      "outputs": []
    },
    {
      "cell_type": "markdown",
      "source": [
        "### 2.4.2. Запуск обучения\n",
        "\n"
      ],
      "metadata": {
        "id": "UTgdXvyFcu1m"
      },
      "id": "UTgdXvyFcu1m"
    },
    {
      "cell_type": "markdown",
      "metadata": {
        "id": "KH2KeQQOwWfQ"
      },
      "source": [
        "Запустите две следующие ячейки для того, чтобы убедиться, что PLModule работает"
      ],
      "id": "KH2KeQQOwWfQ"
    },
    {
      "cell_type": "code",
      "execution_count": null,
      "metadata": {
        "id": "J-LSt-VaE8Wd"
      },
      "outputs": [],
      "source": [
        "model = RetinaRehead()\n",
        "pl_model = PLModel(model)\n",
        "\n",
        "logger = pl.loggers.TensorBoardLogger(\n",
        "    'yolov5', \n",
        "    name='RetinaRehead'                   \n",
        ")\n",
        "\n",
        "trainer = pl.Trainer(\n",
        "    gpus=1,\n",
        "    logger=logger,\n",
        "    callbacks=[LiteProgressBar()],\n",
        "    max_epochs=1)"
      ],
      "id": "J-LSt-VaE8Wd"
    },
    {
      "cell_type": "code",
      "execution_count": null,
      "metadata": {
        "colab": {
          "background_save": true
        },
        "id": "nZnOs4TP7ukI"
      },
      "outputs": [],
      "source": [
        "trainer.fit(\n",
        "    pl_model, dl_train,\n",
        "    val_dataloaders=dl_test\n",
        ")"
      ],
      "id": "nZnOs4TP7ukI"
    },
    {
      "cell_type": "markdown",
      "metadata": {
        "id": "HNxTKQP6wnlf"
      },
      "source": [
        "## 2.5. Применение нейронной сети"
      ],
      "id": "HNxTKQP6wnlf"
    },
    {
      "cell_type": "markdown",
      "source": [
        "Возьмем 10 изображение из тестового датасета и сделаем forward для сети. Почему 10е: на нем достаточно много автомобилей."
      ],
      "metadata": {
        "id": "Enasp3srgEqe"
      },
      "id": "Enasp3srgEqe"
    },
    {
      "cell_type": "code",
      "execution_count": null,
      "metadata": {
        "id": "QzJrs7rbJBrH"
      },
      "outputs": [],
      "source": [
        "pl_model.model.eval()\n",
        "\n",
        "datum = test_ds[10]\n",
        "img = datum['img']\n",
        "targ = datum['targ'].unsqueeze(0)\n",
        "\n",
        "res = pl_model.model.cuda().forward(img.unsqueeze(0).cuda())\n",
        "\n",
        "res[:, [0, 1, 2, 5, 6, 7]] = torch.sigmoid(res[:, [0, 1, 2, 5, 6, 7]])\n",
        "\n",
        "pred_boxes = decode_batch(res, threshold=0.3, iou_threshold=0.5)\n",
        "targ_boxes = decode_batch(targ, threshold=1.0, iou_threshold=0.5)"
      ],
      "id": "QzJrs7rbJBrH"
    },
    {
      "cell_type": "markdown",
      "source": [
        "Посмотрим, какие из автомобилей были успешно распознаны"
      ],
      "metadata": {
        "id": "Lfv3wY8AhBjl"
      },
      "id": "Lfv3wY8AhBjl"
    },
    {
      "cell_type": "code",
      "execution_count": null,
      "metadata": {
        "id": "FIg5cHKW6s0V"
      },
      "outputs": [],
      "source": [
        "from pprint import pprint\n",
        "\n",
        "plt.figure(figsize=(15, 15))\n",
        "plt.imshow((img.permute(1, 2, 0) - img.min()) / (img.max() - img.min()))"
      ],
      "id": "FIg5cHKW6s0V"
    },
    {
      "cell_type": "markdown",
      "source": [
        "Посмотрим на карты присутствия автомобилей с точки зрения нейронной сети. Светлые кластеры на этой карте активации -- места, где нейронная сеть считает, что имеются автомобили. Если они совпадают с положениями автомобилей - это свидетельство того, что нейронная сеть обучается."
      ],
      "metadata": {
        "id": "kdfeKC6_hHTC"
      },
      "id": "kdfeKC6_hHTC"
    },
    {
      "cell_type": "code",
      "execution_count": null,
      "metadata": {
        "id": "SqY33wQ3689z"
      },
      "outputs": [],
      "source": [
        "plt.imshow(((res[0, 0, :, :].detach().cpu())).float())\n",
        "\n",
        "plt.colorbar()"
      ],
      "id": "SqY33wQ3689z"
    },
    {
      "cell_type": "markdown",
      "source": [
        "Посмотрим, где находятся автомобили с точки зрения таргета."
      ],
      "metadata": {
        "id": "ovvL57jRhohJ"
      },
      "id": "ovvL57jRhohJ"
    },
    {
      "cell_type": "code",
      "execution_count": null,
      "metadata": {
        "id": "U9otcSC97ZVV"
      },
      "outputs": [],
      "source": [
        "plt.imshow(datum['targ'][0, :, :])"
      ],
      "id": "U9otcSC97ZVV"
    },
    {
      "cell_type": "markdown",
      "source": [
        "# Что можно попробовать в этой задаче чтобы улучшить результат\n",
        "\n",
        "* Попробовать сделать более сложную систему сверток для детектора\n",
        "* Можно попробовать объединить несколько карт активации бекбоуна, предварительно их интерполировав\n",
        "* Можно попробовать взять более сложную архитектуру, например, HRNet, и использовать ее в качестве backbone\n",
        "* Можно попробовать использовать более эффективные предобученные архитектуры классификаторов, на которых потом строится архитектура Retina. Например, можно взять семейство efficientnet"
      ],
      "metadata": {
        "id": "-hdMM5ZPhzWN"
      },
      "id": "-hdMM5ZPhzWN"
    },
    {
      "cell_type": "code",
      "source": [],
      "metadata": {
        "id": "XUtNUvX-h6kp"
      },
      "id": "XUtNUvX-h6kp",
      "execution_count": null,
      "outputs": []
    }
  ],
  "metadata": {
    "accelerator": "GPU",
    "colab": {
      "machine_shape": "hm",
      "provenance": []
    },
    "gpuClass": "standard",
    "kernelspec": {
      "display_name": "Python 3 (ipykernel)",
      "language": "python",
      "name": "python3"
    },
    "language_info": {
      "codemirror_mode": {
        "name": "ipython",
        "version": 3
      },
      "file_extension": ".py",
      "mimetype": "text/x-python",
      "name": "python",
      "nbconvert_exporter": "python",
      "pygments_lexer": "ipython3",
      "version": "3.9.13"
    }
  },
  "nbformat": 4,
  "nbformat_minor": 5
}